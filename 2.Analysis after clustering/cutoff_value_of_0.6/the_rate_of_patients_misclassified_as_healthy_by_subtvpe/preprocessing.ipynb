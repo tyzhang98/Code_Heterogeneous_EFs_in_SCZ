{
 "cells": [
  {
   "cell_type": "code",
   "execution_count": 3,
   "metadata": {},
   "outputs": [],
   "source": [
    "import pandas as pd\n",
    "\n",
    "# 读取数据\n",
    "file_path = 'rawdata.xlsx'\n",
    "\n",
    "# 读取基线数据\n",
    "baseline_df = pd.read_excel(file_path, sheet_name='Baseline')\n",
    "baseline_df = baseline_df[baseline_df['Label-0.65'] != 3]\n",
    "\n",
    "# 特征列表\n",
    "features = ['Stroop_incongruent_rt', 'Stroop_interference effect_rt', 'Nogo_acc', \n",
    "            'Switch_cost', 'RM-1,750_acc', 'RM-750_acc', 'DSBT_Span']\n",
    "\n",
    "# 提取基线特征和标签\n",
    "X = baseline_df[features]\n",
    "y = baseline_df['Label-0.65']\n"
   ]
  },
  {
   "cell_type": "code",
   "execution_count": 4,
   "metadata": {},
   "outputs": [
    {
     "name": "stdout",
     "output_type": "stream",
     "text": [
      "基线数据类别分布:\n",
      "4    169\n",
      "1     78\n",
      "0     67\n",
      "Name: Label-0.65, dtype: int64\n",
      "\n",
      "随访数据类别分布:\n",
      "0    74\n",
      "1    40\n",
      "Name: Label-0.65, dtype: int64\n"
     ]
    }
   ],
   "source": [
    "import pandas as pd\n",
    "\n",
    "# 读取数据\n",
    "file_path = 'rawdata.xlsx'\n",
    "\n",
    "# 读取基线数据\n",
    "baseline_df = pd.read_excel(file_path, sheet_name='Baseline')\n",
    "baseline_df = baseline_df[baseline_df['Label-0.65'] != 3]\n",
    "\n",
    "# 特征列表\n",
    "features = ['Stroop_incongruent_rt', 'Stroop_interference effect_rt', 'Nogo_acc', \n",
    "            'Switch_cost', 'RM-1,750_acc', 'RM-750_acc', 'DSBT_Span']\n",
    "\n",
    "# 提取基线特征和标签\n",
    "X = baseline_df[features]\n",
    "y = baseline_df['Label-0.65']\n",
    "\n",
    "# 读取随访数据\n",
    "followup_df = pd.read_excel(file_path, sheet_name='Followup') \n",
    "followup_df = followup_df[followup_df['Label-0.65'] != 3]\n",
    "\n",
    "# 提取随访特征和标签\n",
    "X_followup = followup_df[features]\n",
    "y_followup_true = followup_df['Label-0.65']\n",
    "\n",
    "# 打印类别分布\n",
    "print(\"基线数据类别分布:\")\n",
    "print(y.value_counts())\n",
    "print(\"\\n随访数据类别分布:\")\n",
    "print(y_followup_true.value_counts())"
   ]
  }
 ],
 "metadata": {
  "kernelspec": {
   "display_name": "venv2_ml",
   "language": "python",
   "name": "python3"
  },
  "language_info": {
   "codemirror_mode": {
    "name": "ipython",
    "version": 3
   },
   "file_extension": ".py",
   "mimetype": "text/x-python",
   "name": "python",
   "nbconvert_exporter": "python",
   "pygments_lexer": "ipython3",
   "version": "3.10.11"
  }
 },
 "nbformat": 4,
 "nbformat_minor": 2
}
